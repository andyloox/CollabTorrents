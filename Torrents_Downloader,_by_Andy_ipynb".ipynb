{
  "nbformat": 4,
  "nbformat_minor": 0,
  "metadata": {
    "colab": {
      "provenance": [],
      "include_colab_link": true
    },
    "kernelspec": {
      "name": "python3",
      "display_name": "Python 3"
    },
    "language_info": {
      "name": "python"
    }
  },
  "cells": [
    {
      "cell_type": "markdown",
      "metadata": {
        "id": "view-in-github",
        "colab_type": "text"
      },
      "source": [
        "<a href=\"https://colab.research.google.com/github/andyloox/CollabTorrents/blob/main/Torrents_Downloader%2C_by_Andy_ipynb%22.ipynb\" target=\"_parent\"><img src=\"https://colab.research.google.com/assets/colab-badge.svg\" alt=\"Open In Colab\"/></a>"
      ]
    },
    {
      "cell_type": "markdown",
      "metadata": {
        "id": "TWSV-kB8rRqe"
      },
      "source": [
        "# Загрузчик торрентов на Google Диск\n",
        "## Автор: [Andy](https://lolz.guru/members/3938951/)\n",
        "\n",
        "---\n",
        "\n"
      ]
    },
    {
      "cell_type": "markdown",
      "metadata": {
        "id": "ZDrvpaFusyqr"
      },
      "source": [
        "### 💾Google Drive\n",
        "Для потоковой передачи файлов необходимо подключить Google Диск."
      ]
    },
    {
      "cell_type": "code",
      "metadata": {
        "id": "rdSTRuNqtKdb"
      },
      "source": [
        "from google.colab import drive\n",
        "drive.mount('/content/gdrive/Shareddrives/Drive/!torrent')"
      ],
      "execution_count": null,
      "outputs": []
    },
    {
      "cell_type": "markdown",
      "metadata": {
        "id": "bm73PvbbtSja"
      },
      "source": [
        "### 🗽Зависимость\n",
        "https://www.libtorrent.org/"
      ]
    },
    {
      "cell_type": "code",
      "metadata": {
        "id": "fyjMH94MtbMy"
      },
      "source": [
        "!python -m pip install --upgrade pip setuptools wheel\n",
        "!python -m pip install lbry-libtorrent"
      ],
      "execution_count": null,
      "outputs": []
    },
    {
      "cell_type": "markdown",
      "metadata": {
        "id": "5MsSS2-ythUC"
      },
      "source": [
        "### 🧲Магнет ссылка\n",
        "Переменная **link** хранит строку ссылки."
      ]
    },
    {
      "cell_type": "markdown",
      "metadata": {
        "id": "0Ba9d3PS6JsT"
      },
      "source": [
        "Один торрент.\n"
      ]
    },
    {
      "cell_type": "code",
      "metadata": {
        "id": "biLYnJKHtv0K"
      },
      "source": [
        "link = input('Вставьте Торрент/Магнет ссылку здесь \\n')\n",
        "isSome = False"
      ],
      "execution_count": null,
      "outputs": []
    },
    {
      "cell_type": "markdown",
      "metadata": {
        "id": "3uWCKSUu6md0"
      },
      "source": [
        "Несколько торрентов."
      ]
    },
    {
      "cell_type": "code",
      "metadata": {
        "id": "7bgnZNZq6uib"
      },
      "source": [
        "quantity = int(input('Введите количество торретов: '))\n",
        "link = []\n",
        "print('Вставьте Торрент/Магнет ссылки ниже по очереди')\n",
        "for l in range(0, quantity):\n",
        "  link.append(input(f'{l + 1}: '))\n",
        "isSome = True"
      ],
      "execution_count": null,
      "outputs": []
    },
    {
      "cell_type": "markdown",
      "metadata": {
        "id": "O30xcHB_uNVT"
      },
      "source": [
        "### 👨‍💻Код"
      ]
    },
    {
      "cell_type": "code",
      "metadata": {
        "id": "3aAIiXz6uq8C"
      },
      "source": [
        "import libtorrent as lt\n",
        "import time\n",
        "import datetime\n",
        "\n",
        "ses = lt.session()\n",
        "ses.listen_on(6881, 6891)\n",
        "params = {\n",
        "    'save_path': '/content/drive/My Drive/Torrent/',\n",
        "    'storage_mode': lt.storage_mode_t(2)}\n",
        "\n",
        "def download(torrent):\n",
        "  handle = lt.add_magnet_uri(ses, torrent, params)\n",
        "  ses.start_dht()\n",
        "\n",
        "  begin = time.time()\n",
        "  print(datetime.datetime.now())\n",
        "\n",
        "  print ('Получение метаданных...')\n",
        "  while (not handle.has_metadata()):\n",
        "      time.sleep(1)\n",
        "  print ('Метаданные получены, начинается торрент-загрузка...')\n",
        "\n",
        "  print('Запуск', handle.name())\n",
        "\n",
        "  while (handle.status().state != lt.torrent_status.seeding):\n",
        "      s = handle.status()\n",
        "      state_str = ['queued', 'checking', 'downloading metadata', \\\n",
        "              'downloading', 'finished', 'seeding', 'allocating']\n",
        "      print ('%.2f%% информация (загрузка: %.1f kb/s отправка: %.1f kB/s пиры: %d) %s ' % \\\n",
        "              (s.progress * 100, s.download_rate / 1000, s.upload_rate / 1000, \\\n",
        "              s.num_peers, state_str[s.state]))\n",
        "      time.sleep(5)\n",
        "\n",
        "  end = time.time()\n",
        "  print(handle.name(), 'Загрузка кончена')\n",
        "\n",
        "  print('Затрачено времени: ', int((end-begin)//60), 'минут ', \n",
        "        int((end-begin)%60), 'секунд')\n",
        "\n",
        "  print(datetime.datetime.now())\n",
        "\n",
        "\n",
        "if isSome:\n",
        "  for torrent in link:\n",
        "    print(torrent)\n",
        "    download(torrent)\n",
        "else:\n",
        "  download(link)"
      ],
      "execution_count": null,
      "outputs": []
    }
  ]
}